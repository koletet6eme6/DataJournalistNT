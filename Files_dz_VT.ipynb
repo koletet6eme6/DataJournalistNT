{
 "cells": [
  {
   "cell_type": "code",
   "execution_count": 2,
   "metadata": {},
   "outputs": [],
   "source": [
    "# 1\n",
    "import json"
   ]
  },
  {
   "cell_type": "code",
   "execution_count": 3,
   "metadata": {},
   "outputs": [],
   "source": [
    "#purchase_log.txt\n",
    "#visit_log.csv"
   ]
  },
  {
   "cell_type": "code",
   "execution_count": 9,
   "metadata": {},
   "outputs": [],
   "source": [
    "\n",
    "with open ('purchase_log.txt', encoding = 'utf-8') as f:\n",
    "    content = f.readlines()\n",
    "    purchases = {}\n",
    "    for line in content[1:]:\n",
    "        line = line.strip()\n",
    "        dict1 = json.loads(line)\n",
    "        for el in dict1.items():\n",
    "            key = dict1['user_id']\n",
    "            value = dict1['category']\n",
    "            purchases.setdefault(key, value)\n",
    "        "
   ]
  },
  {
   "cell_type": "code",
   "execution_count": 47,
   "metadata": {},
   "outputs": [],
   "source": [
    "with open ('visit_log.csv', 'r', encoding = 'utf-8') as visits_list:\n",
    "    with open ('funnel.csv', 'w') as f:\n",
    "        for element in visits_list:\n",
    "            element = element.strip().split(',')\n",
    "            if element[0] in purchases:\n",
    "                final_list = element\n",
    "                final_list.append(purchases.get(element[0]))\n",
    "                f.write(str(final_list) + '\\n')\n",
    "                "
   ]
  },
  {
   "cell_type": "code",
   "execution_count": 51,
   "metadata": {},
   "outputs": [
    {
     "name": "stdout",
     "output_type": "stream",
     "text": [
      "['1840e0b9d4', 'other', 'Продукты']\n",
      "\n",
      "['4e4f90fcfb', 'context', 'Электроника']\n",
      "\n",
      "['afea8d72fc', 'other', 'Электроника']\n",
      "\n",
      "['2824221f38', 'email', 'Продукты']\n",
      "\n",
      "['373a6055fe', 'other', 'Бытовая техника']\n",
      "\n",
      "['9b2ab046f3', 'other', 'Электроника']\n",
      "\n"
     ]
    }
   ],
   "source": [
    "f =  open ('funnel.csv', 'r')\n",
    "i = 0\n",
    "for line in f:\n",
    "    print (line)\n",
    "    i += 1\n",
    "    if i > 5:\n",
    "        break"
   ]
  }
 ],
 "metadata": {
  "kernelspec": {
   "display_name": "Python 3",
   "language": "python",
   "name": "python3"
  },
  "language_info": {
   "codemirror_mode": {
    "name": "ipython",
    "version": 3
   },
   "file_extension": ".py",
   "mimetype": "text/x-python",
   "name": "python",
   "nbconvert_exporter": "python",
   "pygments_lexer": "ipython3",
   "version": "3.8.5"
  }
 },
 "nbformat": 4,
 "nbformat_minor": 4
}
