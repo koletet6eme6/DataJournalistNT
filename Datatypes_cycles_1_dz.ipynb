{
 "cells": [
  {
   "cell_type": "code",
   "execution_count": null,
   "metadata": {},
   "outputs": [],
   "source": [
    "# задание 1\n",
    "word = input ('Введите слово')\n",
    "\n",
    "if len(word) % 2 == 0:\n",
    "    print (word[int(len(word) / 2 -1):int(len(word)/2 + 1)])\n",
    "else:\n",
    "    print (word[(len(word) // 2)])\n",
    "\n"
   ]
  },
  {
   "cell_type": "code",
   "execution_count": 7,
   "metadata": {},
   "outputs": [
    {
     "name": "stdout",
     "output_type": "stream",
     "text": [
      "Ведите число: 6\n",
      "Введите число: 6\n",
      "Введите число: 0\n",
      "Результат: 12\n"
     ]
    }
   ],
   "source": [
    "# Задание 2\n",
    "number = int(input('Ведите число: '))\n",
    "total = 0\n",
    "while number !=0:\n",
    "    total +=number\n",
    "    number = int(input('Введите число: '))\n",
    "print('Результат:', total)\n",
    "\n"
   ]
  },
  {
   "cell_type": "code",
   "execution_count": 11,
   "metadata": {
    "scrolled": true
   },
   "outputs": [],
   "source": [
    "# Задание 3\n",
    "\n",
    "boys = ['Peter', 'Alex', 'John', 'Arthur', 'Richard']\n",
    "girls = ['Kate', 'Liza', 'Kira', 'Emma', 'Trisha']\n"
   ]
  },
  {
   "cell_type": "code",
   "execution_count": 33,
   "metadata": {},
   "outputs": [
    {
     "name": "stdout",
     "output_type": "stream",
     "text": [
      "Идеальные пары\n",
      "Alex и Emma\n",
      "Arthur и Kate\n",
      "John и Kira\n",
      "Peter и Liza\n",
      "Richard и Trisha\n"
     ]
    }
   ],
   "source": [
    "ideal_match = zip(sorted(boys), sorted(girls))\n",
    "if len(sorted(boys))== len(sorted(girls)):\n",
    "    print ('Идеальные пары')\n",
    "    for match in ideal_match:\n",
    "        print(match[0], 'и', match[1])\n",
    "else:\n",
    "    print ('Внимание, кто-то может остаться без пары!')"
   ]
  },
  {
   "cell_type": "code",
   "execution_count": 39,
   "metadata": {},
   "outputs": [
    {
     "name": "stdout",
     "output_type": "stream",
     "text": [
      "Средняя температура в странах:\n",
      "Thailand - 23.9 C\n",
      "Germany - 13.8 C\n",
      "Russia - 3.7 C\n",
      "Poland - 12.0 C\n"
     ]
    }
   ],
   "source": [
    "countries_temperature = [\n",
    "    ['Thailand', [75.2, 77, 78.8, 73.4, 68, 75.2, 77]],\n",
    "    ['Germany', [57.2, 55.4, 59, 59, 53.6]],\n",
    "    ['Russia', [35.6, 37.4, 39.2, 41, 42.8, 39.2, 35.6]],\n",
    "    ['Poland', [50, 50, 53.6, 57.2, 55.4, 55.4]]\n",
    "]\n",
    "print ('Средняя температура в странах:')\n",
    "for country in countries_temperature:\n",
    "    total = 0.0\n",
    "    average_temp = 0.0\n",
    "    celcium = 0.0\n",
    "    total = sum (country[1])\n",
    "    average_temp = total/len(country[1])\n",
    "    celcium = (average_temp - 32)*5/9\n",
    "    print (country [0], '-', round(celcium,1), 'C')"
   ]
  },
  {
   "cell_type": "code",
   "execution_count": null,
   "metadata": {},
   "outputs": [],
   "source": []
  }
 ],
 "metadata": {
  "kernelspec": {
   "display_name": "Python 3",
   "language": "python",
   "name": "python3"
  },
  "language_info": {
   "codemirror_mode": {
    "name": "ipython",
    "version": 3
   },
   "file_extension": ".py",
   "mimetype": "text/x-python",
   "name": "python",
   "nbconvert_exporter": "python",
   "pygments_lexer": "ipython3",
   "version": "3.8.5"
  }
 },
 "nbformat": 4,
 "nbformat_minor": 4
}
