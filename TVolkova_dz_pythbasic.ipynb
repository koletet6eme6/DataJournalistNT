{
 "cells": [
  {
   "cell_type": "code",
   "execution_count": 36,
   "metadata": {},
   "outputs": [
    {
     "name": "stdout",
     "output_type": "stream",
     "text": [
      "Введите год2021\n",
      "Обычный год\n"
     ]
    }
   ],
   "source": [
    "# Задание 2\n",
    "\n",
    "year = int (input ('Введите год'))\n",
    "if year % 4 == 0 and year % 100 != 0 or year % 400 == 0:\n",
    "    print ('Високосный год')\n",
    "else:\n",
    "    print ('Обычный год')"
   ]
  },
  {
   "cell_type": "code",
   "execution_count": 7,
   "metadata": {},
   "outputs": [
    {
     "name": "stdout",
     "output_type": "stream",
     "text": [
      "Фраза 1 длиннее фразы 2\n",
      "Конец программы\n"
     ]
    }
   ],
   "source": [
    "# Задание 1\n",
    "\n",
    "phrase_1 = 'Насколько проще было бы писать программы, если бы не заказчики'\n",
    "phrase_2 = '640Кб должно хватить для любых задач. Билл Гейтс (по легенде)'\n",
    "\n",
    "if len (phrase_1) > len (phrase_2):\n",
    "    print ('Фраза 1 длиннее фразы 2')\n",
    "else:\n",
    "    print ('Фраза 2 длиннее фразы 1')\n",
    "print ('Конец программы')\n"
   ]
  },
  {
   "cell_type": "code",
   "execution_count": 9,
   "metadata": {},
   "outputs": [
    {
     "name": "stdout",
     "output_type": "stream",
     "text": [
      "Фраза 2 длиннее фразы 1\n",
      "Конец программы\n"
     ]
    }
   ],
   "source": [
    "phrase_1 = '640Кб должно хватить для любых задач. Билл Гейтс (по легенде)'\n",
    "phrase_2 = 'Насколько проще было бы писать программы, если бы не заказчики'\n",
    "\n",
    "if len (phrase_1) > len (phrase_2):\n",
    "    print ('Фраза 1 длиннее фразы 2')\n",
    "else:\n",
    "    print ('Фраза 2 длиннее фразы 1')\n",
    "print ('Конец программы')"
   ]
  },
  {
   "cell_type": "code",
   "execution_count": 1,
   "metadata": {},
   "outputs": [
    {
     "name": "stdout",
     "output_type": "stream",
     "text": [
      "Фразы равной длины\n",
      "Конец программы\n"
     ]
    }
   ],
   "source": [
    "phrase_1 = 'Насколько проще было бы писать программы, если бы не заказчики'\n",
    "phrase_2 = 'Насколько проще было бы писать программы, если бы не заказчики'\n",
    "\n",
    "if len (phrase_1) == len (phrase_1):\n",
    "    print ('Фразы равной длины')\n",
    "else:\n",
    "    print ('Подумай еще')\n",
    "print ('Конец программы')\n"
   ]
  },
  {
   "cell_type": "code",
   "execution_count": 59,
   "metadata": {},
   "outputs": [
    {
     "name": "stdout",
     "output_type": "stream",
     "text": [
      "Введите день24\n",
      "Введите месяцмарт\n",
      "Ваш знак зодиака Овен\n",
      "Конец программы\n"
     ]
    }
   ],
   "source": [
    "#Задание 3\n",
    "\n",
    "day = int (input ('Введите день'))\n",
    "month = input ('Введите месяц')\n",
    "\n",
    "\n",
    "if (day >= 21 and day <=31 and month == \"март\") or (month == \"апрель\" and day >= 1 and day <= 19):\n",
    "    print ('Ваш знак зодиака Овен')\n",
    "elif (day >= 20 and day <=30 and month == \"апрель\") or (month == \"май\" and day >= 1 and day <= 20):\n",
    "    print('Ваш знак зодиака Телец')\n",
    "elif (day >= 21 and day <= 31 and month == \"май\") or (month == \"июнь\" and day >= 1 and day <= 21):\n",
    "    print('Ваш знак зодиака Близнецы')\n",
    "elif (day >= 22 and day <= 30 and month == \"июнь\") or (month == \"июль\" and day >= 1 and day <= 22):\n",
    "    print('Ваш знак зодиака Рак')\n",
    "elif (day >= 23 and day <= 31 and month == \"июль\") or (month == \"август\" and day >= 1 and day <= 22):\n",
    "    print('ваш знак зодиака Лев')\n",
    "elif (day >= 23 and day <= 31 and month == \"август\") or (month == \"сентябрь\" and day >= 1 and day <= 22):\n",
    "    print('Ваш знак зодиака Дева')\n",
    "elif (day >= 23 and day <= 30 and month == \"сентябрь\") or (month == \"октябрь\" and day >= 1 and day <= 23):\n",
    "    print('Ваш знак зодиака Весы')\n",
    "elif (day >= 24 and day <= 31 and month== \"октябрь\") or (month == \"ноябрь\" and day >= 1 and day <= 22):\n",
    "    print('Ваш знак зодиака Скорпион')\n",
    "elif (day >= 23 and day <= 30 and month == \"ноябрь\") or (month == \"декабрь\" and day >= 1 and day <= 21):\n",
    "    print('Ваш знак зодиака Стрелец')\n",
    "elif (day >= 22 and day <= 31 and month == \"декабрь\") or (month == \"январь\" and day >= 1 and day <= 20):\n",
    "    print('Ваш знак зодиака Козерог')\n",
    "elif (day >= 21 and day <= 31 and month == \"январь\") or (month == \"февраль\" and day >= 1 and day <= 18):\n",
    "    print('Ваш знак зодиака Водолей')\n",
    "elif (day >= 19 and day <= 29 and month == \"февраль\") or (month == \"март\" and day >= 1 and day <= 20):\n",
    "    print('Ваш знак зодиака Рыбы')\n",
    "print ('Конец программы')\n",
    "    \n",
    "\n",
    "    \n"
   ]
  },
  {
   "cell_type": "code",
   "execution_count": 61,
   "metadata": {},
   "outputs": [
    {
     "name": "stdout",
     "output_type": "stream",
     "text": [
      "Результат - упаковка для лыж\n",
      "Конец программы\n"
     ]
    }
   ],
   "source": [
    "# Задание 4\n",
    "\n",
    "length = 300\n",
    "width = 70\n",
    "height = 70\n",
    "\n",
    "if length > 200:\n",
    "    print ('Результат - упаковка для лыж')\n",
    "elif width < 15 and length < 15 and height < 15:\n",
    "    print ('Результат - коробка № 1')\n",
    "elif width < 50 or length < 50 or height < 50:\n",
    "    print ('Результат - коробка № 2')\n",
    "else:\n",
    "    print ('Результат - стандартная коробка № 3')\n",
    "print ('Конец программы')\n",
    "\n"
   ]
  }
 ],
 "metadata": {
  "kernelspec": {
   "display_name": "Python 3",
   "language": "python",
   "name": "python3"
  },
  "language_info": {
   "codemirror_mode": {
    "name": "ipython",
    "version": 3
   },
   "file_extension": ".py",
   "mimetype": "text/x-python",
   "name": "python",
   "nbconvert_exporter": "python",
   "pygments_lexer": "ipython3",
   "version": "3.8.5"
  }
 },
 "nbformat": 4,
 "nbformat_minor": 4
}
