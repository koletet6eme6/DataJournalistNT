{
 "cells": [
  {
   "cell_type": "code",
   "execution_count": 1,
   "metadata": {},
   "outputs": [],
   "source": [
    "# задание 1"
   ]
  },
  {
   "cell_type": "code",
   "execution_count": 200,
   "metadata": {},
   "outputs": [],
   "source": [
    "from datetime import datetime"
   ]
  },
  {
   "cell_type": "code",
   "execution_count": 201,
   "metadata": {},
   "outputs": [],
   "source": [
    "date_string_MT = 'Wednesday, October 2, 2002'\n"
   ]
  },
  {
   "cell_type": "code",
   "execution_count": 202,
   "metadata": {},
   "outputs": [
    {
     "name": "stdout",
     "output_type": "stream",
     "text": [
      "2002-10-02 00:00:00\n"
     ]
    }
   ],
   "source": [
    "dt_MT = datetime.strptime (date_string_MT, '%A, %B %d, %Y')\n",
    "print(dt_MT)"
   ]
  },
  {
   "cell_type": "code",
   "execution_count": 203,
   "metadata": {},
   "outputs": [],
   "source": [
    "date_string_G = 'Friday, 11.10.13'"
   ]
  },
  {
   "cell_type": "code",
   "execution_count": 204,
   "metadata": {},
   "outputs": [
    {
     "data": {
      "text/plain": [
       "datetime.datetime(2013, 10, 11, 0, 0)"
      ]
     },
     "execution_count": 204,
     "metadata": {},
     "output_type": "execute_result"
    }
   ],
   "source": [
    "dt_G = datetime.strptime (date_string_G, '%A, %d.%m.%y')\n",
    "dt_G"
   ]
  },
  {
   "cell_type": "code",
   "execution_count": 205,
   "metadata": {},
   "outputs": [],
   "source": [
    "date_string_DN = 'Thursday, 18 August 1977'\n"
   ]
  },
  {
   "cell_type": "code",
   "execution_count": 206,
   "metadata": {},
   "outputs": [
    {
     "data": {
      "text/plain": [
       "datetime.datetime(1977, 8, 18, 0, 0)"
      ]
     },
     "execution_count": 206,
     "metadata": {},
     "output_type": "execute_result"
    }
   ],
   "source": [
    "dt_DN = datetime.strptime (date_string_DN, '%A, %d %B %Y')\n",
    "dt_DN"
   ]
  },
  {
   "cell_type": "code",
   "execution_count": 207,
   "metadata": {},
   "outputs": [],
   "source": [
    "# Задание 2"
   ]
  },
  {
   "cell_type": "code",
   "execution_count": 208,
   "metadata": {},
   "outputs": [
    {
     "data": {
      "text/plain": [
       "[True, False, False]"
      ]
     },
     "execution_count": 208,
     "metadata": {},
     "output_type": "execute_result"
    }
   ],
   "source": [
    "stream = ['2018-04-02', '2018-02-29', '2018-19-02']\n",
    "\n",
    "\n",
    "def date_check (element):\n",
    "    new_list = []\n",
    "    for element in stream:\n",
    "        try:\n",
    "            element == datetime.strptime (element, '%Y-%m-%d')\n",
    "            new_list.append(True)\n",
    "        except:\n",
    "            new_list.append(False)\n",
    "    return new_list\n",
    "    \n",
    "date_check(element)"
   ]
  },
  {
   "cell_type": "code",
   "execution_count": 209,
   "metadata": {},
   "outputs": [],
   "source": [
    "stream = ['2018-04-02', '2018-02-29', '2018-19-02']"
   ]
  },
  {
   "cell_type": "code",
   "execution_count": 210,
   "metadata": {},
   "outputs": [
    {
     "data": {
      "text/plain": [
       "False"
      ]
     },
     "execution_count": 210,
     "metadata": {},
     "output_type": "execute_result"
    }
   ],
   "source": [
    "def date_correct (element):\n",
    "        try:\n",
    "            element == datetime.strptime (element, '%Y-%m-%d')\n",
    "        except:\n",
    "            return False\n",
    "date_correct (element)"
   ]
  },
  {
   "cell_type": "code",
   "execution_count": 211,
   "metadata": {},
   "outputs": [
    {
     "data": {
      "text/plain": [
       "[True, False, False]"
      ]
     },
     "execution_count": 211,
     "metadata": {},
     "output_type": "execute_result"
    }
   ],
   "source": [
    "def main (element):\n",
    "    new_list2 = []\n",
    "    for element in stream:\n",
    "        new_list2.append(date_correct(element))\n",
    "    return new_list2\n",
    "main(element)"
   ]
  },
  {
   "cell_type": "code",
   "execution_count": 212,
   "metadata": {},
   "outputs": [],
   "source": [
    "# задание 3"
   ]
  },
  {
   "cell_type": "code",
   "execution_count": 397,
   "metadata": {},
   "outputs": [],
   "source": [
    "from datetime import timedelta, date"
   ]
  },
  {
   "cell_type": "code",
   "execution_count": 460,
   "metadata": {},
   "outputs": [
    {
     "data": {
      "text/plain": [
       "False"
      ]
     },
     "execution_count": 460,
     "metadata": {},
     "output_type": "execute_result"
    }
   ],
   "source": [
    "def check_format (date):\n",
    "    try:\n",
    "        datetime.strptime(date, '%Y-%m-%d')\n",
    "        return True\n",
    "    except ValueError:\n",
    "        return False\n",
    "    \n",
    "        \n",
    "check_format ('20pp-09-10')\n",
    "    \n",
    "    "
   ]
  },
  {
   "cell_type": "code",
   "execution_count": 459,
   "metadata": {},
   "outputs": [
    {
     "data": {
      "text/plain": [
       "['2021-01-18',\n",
       " '2021-01-19',\n",
       " '2021-01-20',\n",
       " '2021-01-21',\n",
       " '2021-01-22',\n",
       " '2021-01-23',\n",
       " '2021-01-24',\n",
       " '2021-01-25',\n",
       " '2021-01-26',\n",
       " '2021-01-27',\n",
       " '2021-01-28']"
      ]
     },
     "execution_count": 459,
     "metadata": {},
     "output_type": "execute_result"
    }
   ],
   "source": [
    "def main2 (start_date, end_date):\n",
    "    new_list = []\n",
    "    if check_format(start_date) == True and check_format (end_date) == True:\n",
    "        start_date_dt = datetime.strptime(start_date, '%Y-%m-%d')\n",
    "        end_date_dt = datetime.strptime(end_date, '%Y-%m-%d')\n",
    "        diff = end_date_dt - start_date_dt\n",
    "        delta = diff.days\n",
    "        dates_list = []\n",
    "        if delta > 0:\n",
    "            for element in range (delta +1):\n",
    "                current_date = (start_date_dt + timedelta(element))\n",
    "                dates_list.append(current_date.strftime('%Y-%m-%d'))\n",
    "            return dates_list\n",
    "        else:\n",
    "            return dates_list\n",
    "    else:\n",
    "        return new_list\n",
    "main2 ('2021-01-18', '2021-01-28')"
   ]
  }
 ],
 "metadata": {
  "kernelspec": {
   "display_name": "Python 3",
   "language": "python",
   "name": "python3"
  },
  "language_info": {
   "codemirror_mode": {
    "name": "ipython",
    "version": 3
   },
   "file_extension": ".py",
   "mimetype": "text/x-python",
   "name": "python",
   "nbconvert_exporter": "python",
   "pygments_lexer": "ipython3",
   "version": "3.8.5"
  }
 },
 "nbformat": 4,
 "nbformat_minor": 4
}
