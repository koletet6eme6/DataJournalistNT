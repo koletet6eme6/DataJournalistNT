{
 "cells": [
  {
   "cell_type": "code",
   "execution_count": 2,
   "metadata": {},
   "outputs": [],
   "source": [
    "import numpy as np\n"
   ]
  },
  {
   "cell_type": "code",
   "execution_count": 12,
   "metadata": {},
   "outputs": [
    {
     "name": "stdout",
     "output_type": "stream",
     "text": [
      "выигрыш 791038 количество попыток 1000000 средний выигрыш 0.791038\n",
      "количество удачных попыток 203392 количество попыток 1000000 среднее количество удачных попыток 0.203392\n"
     ]
    }
   ],
   "source": [
    "trials = 1000000    # Количество игровых попыток\n",
    "plus_score = 0 #количество выигрышей\n",
    "success = 0 #суммарный выигрыш\n",
    "\n",
    "\n",
    "for i in range(trials):\n",
    "    random_score = np.random.randint(0, 1000) # Случайное число от 000 до 999\n",
    "    if random_score == 777:\n",
    "        plus_score += 1\n",
    "        success += 200\n",
    "    elif random_score == 999:\n",
    "        plus_score += 1\n",
    "        success += 100\n",
    "    elif random_score == 555:\n",
    "        plus_score += 1\n",
    "        success += 50\n",
    "    elif random_score == 333:\n",
    "        plus_score += 1\n",
    "        success += 15\n",
    "    elif random_score == 111:\n",
    "        plus_score += 1\n",
    "        success += 10\n",
    "    elif random_score % 100 == 77:\n",
    "        plus_score += 1\n",
    "        success += 5\n",
    "    elif random_score % 10 == 7:\n",
    "        plus_score += 1\n",
    "        success += 3\n",
    "    elif random_score % 100 == 0:\n",
    "        plus_score += 1\n",
    "        success += 2\n",
    "    elif random_score % 10 == 0:\n",
    "        plus_score += 1\n",
    "        success += 1\n",
    "    \n",
    "        \n",
    "monte_carlo1 = success / trials    # Вероятность из моделирования\n",
    "monte_carlo2 = plus_score / trials\n",
    "                        \n",
    "\n",
    "print('выигрыш', success, 'количество попыток', trials, 'средний выигрыш', monte_carlo1) #игрок приобретает за игру 80% от затраченного\n",
    "print ('количество удачных попыток', plus_score, 'количество попыток', trials, 'среднее количество удачных попыток', monte_carlo2) #всего в порядка 20% случаев игрок выигрывает любой выирыш. Игра не выгодна"
   ]
  },
  {
   "cell_type": "code",
   "execution_count": 13,
   "metadata": {},
   "outputs": [
    {
     "name": "stdout",
     "output_type": "stream",
     "text": [
      "0.7999999999999999\n"
     ]
    }
   ],
   "source": [
    "#теоретическая ветроятность\n",
    "success_three = 1/1000 # вероятность выпадения числа с тремя одинаковыми знаками\n",
    "H1 = success_three\n",
    "success_two = 9/1000 #вероятность выпадения числа с тремя одинаковыми знаками\n",
    "H2 = success_two\n",
    "success_one = 90/1000 #вероятность выпадения числе с одной семеркой на конце\n",
    "H3 = success_one\n",
    "success_two_zeros = 10/1000 #вероятность выпадения числа с двумя нулями на конце\n",
    "H4 = success_two_zeros \n",
    "success_one_zero = 90/1000 #вероятность выпадения числа с одним нулем\n",
    "H5 = success_one_zero\n",
    "\n",
    "theoretical_probability = H1 * (200+100+50+15+10) + H2 * 5 + H3 * 3 + H4 * 2 + H5 \n",
    "print (theoretical_probability)"
   ]
  }
 ],
 "metadata": {
  "kernelspec": {
   "display_name": "Python 3",
   "language": "python",
   "name": "python3"
  },
  "language_info": {
   "codemirror_mode": {
    "name": "ipython",
    "version": 3
   },
   "file_extension": ".py",
   "mimetype": "text/x-python",
   "name": "python",
   "nbconvert_exporter": "python",
   "pygments_lexer": "ipython3",
   "version": "3.8.5"
  }
 },
 "nbformat": 4,
 "nbformat_minor": 4
}
