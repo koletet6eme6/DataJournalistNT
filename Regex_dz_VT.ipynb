{
 "cells": [
  {
   "cell_type": "code",
   "execution_count": 1,
   "metadata": {},
   "outputs": [],
   "source": [
    "import re"
   ]
  },
  {
   "cell_type": "code",
   "execution_count": 32,
   "metadata": {},
   "outputs": [
    {
     "data": {
      "text/plain": [
       "'Номер: В221ММ валиден. Регион: 99'"
      ]
     },
     "execution_count": 32,
     "metadata": {},
     "output_type": "execute_result"
    }
   ],
   "source": [
    "car_id = 'В221ММ99'\n",
    "def number_validation(car_id):\n",
    "    car_id_pattern = r'[АВЕКМНОРСТУХ]{1}\\d{3}[АВЕКМНОРСТУХ]{2}\\d{2,3}$'\n",
    "    number_pattern = ','.join(re.findall(r'[АВЕКМНОРСТУХ]{1}\\d{3}[АВЕКМНОРСТУХ]{2}', car_id))\n",
    "    region_pattern = ','.join(re.findall(r'\\d{2,3}$', car_id))\n",
    "    if re.findall(car_id_pattern, car_id):\n",
    "        return (f'Номер: {number_pattern} валиден. Регион: {region_pattern}')\n",
    "    else:\n",
    "        return('Номер не валиден')\n",
    "number_validation(car_id)"
   ]
  },
  {
   "cell_type": "code",
   "execution_count": 33,
   "metadata": {},
   "outputs": [
    {
     "data": {
      "text/plain": [
       "'Номер: А221АА валиден. Регион: 99'"
      ]
     },
     "execution_count": 33,
     "metadata": {},
     "output_type": "execute_result"
    }
   ],
   "source": [
    "number_car = 'А221АА99'\n",
    "def car_validate_1(number_car):\n",
    "    id_car = r'(^[АВЕКМНОРСТУХ]{1}\\d{3}[АВЕКМНОРСТУХ]{2})(\\d{2,3}$)'\n",
    "    number = re.search(id_car, number_car)\n",
    "    if re.findall(id_car, number_car):\n",
    "        return (f'Номер: {number.group(1)} валиден. Регион: {number.group(2)}')\n",
    "    else:\n",
    "        return ('номер не валиден')\n",
    "car_validate_1(number_car)"
   ]
  },
  {
   "cell_type": "code",
   "execution_count": 18,
   "metadata": {},
   "outputs": [],
   "source": [
    "line = 'Напишите функцию функцию, которая будет будет будет будет удалять все все все все последовательные повторы слов из из из из заданной строки строки при помощи регулярных выражений'\n",
    "def repeat_del (line):\n",
    "    result = re.sub(r'([^\\W\\d_]+)(\\s+\\1)*', r'\\1', line)\n",
    "    return result\n",
    "        "
   ]
  },
  {
   "cell_type": "code",
   "execution_count": 19,
   "metadata": {},
   "outputs": [
    {
     "data": {
      "text/plain": [
       "'Напишите функцию, которая будет удалять все последовательные повторы слов из заданной строки при помощи регулярных выражений'"
      ]
     },
     "execution_count": 19,
     "metadata": {},
     "output_type": "execute_result"
    }
   ],
   "source": [
    "repeat_del(line)"
   ]
  },
  {
   "cell_type": "code",
   "execution_count": 20,
   "metadata": {},
   "outputs": [],
   "source": [
    "some_words = 'Информационные технологии'\n",
    "def acronim (some_words):\n",
    "    pattern = (r'\\b[^\\W\\d_]{1}')\n",
    "    result = (''.join(re.findall (pattern, some_words))).upper()\n",
    "    return result"
   ]
  },
  {
   "cell_type": "code",
   "execution_count": 21,
   "metadata": {},
   "outputs": [
    {
     "data": {
      "text/plain": [
       "'ИТ'"
      ]
     },
     "execution_count": 21,
     "metadata": {},
     "output_type": "execute_result"
    }
   ],
   "source": [
    "acronim(some_words)"
   ]
  },
  {
   "cell_type": "code",
   "execution_count": 22,
   "metadata": {},
   "outputs": [],
   "source": [
    "def domain_numbers (emails):\n",
    "    str_emails = ','.join(emails)\n",
    "    new_dict = {}\n",
    "    com_pattern = re.findall(r'\\w+@\\w+\\.com', str_emails)\n",
    "    com_pattern_numbers = emails.count(com_pattern)\n",
    "    print(com_pattern)\n",
    "    ru_pattern = re.findall(r'\\w+@\\w+\\.ru', str_emails)\n",
    "    in_pattern = re.findall(r'\\w+@\\w+\\.in', str_emails)\n",
    "    \n",
    "    for element in emails:\n",
    "        if element == com_pattern:\n",
    "            new_dict.update({com_pattern:emails.count(com_pattern)})\n",
    "    print(new_dict)\n"
   ]
  },
  {
   "cell_type": "code",
   "execution_count": 23,
   "metadata": {},
   "outputs": [
    {
     "data": {
      "text/plain": [
       "['gmail.com', 'test.in', 'ya.ru', 'mail.ru', 'ya.ru', 'gmail.com']"
      ]
     },
     "execution_count": 23,
     "metadata": {},
     "output_type": "execute_result"
    }
   ],
   "source": [
    "emails = ['test@gmail.com, xyz@test.in, test@ya.ru, xyz@mail.ru, xyz@ya.ru, xyz@gmail.com']\n",
    "\n",
    "def emails_domain_list(emails):\n",
    "    email_list = []\n",
    "    emails_str = ','.join(emails).split(',')\n",
    "    for i in emails_str:\n",
    "        i_validate = re.search(r'([\\w.-]+@)([\\w.-]+)', i)\n",
    "        email_list.append(i_validate.group(2))\n",
    "    return(email_list)\n",
    "emails_domain_list(emails)"
   ]
  },
  {
   "cell_type": "code",
   "execution_count": 24,
   "metadata": {},
   "outputs": [],
   "source": [
    "def domain_number(emails):\n",
    "    new_dict = {}\n",
    "    for element in emails_domain_list(emails):\n",
    "        new_dict.update({element:emails_domain_list(emails).count(element)})\n",
    "    return new_dict"
   ]
  },
  {
   "cell_type": "code",
   "execution_count": 25,
   "metadata": {},
   "outputs": [
    {
     "data": {
      "text/plain": [
       "{'gmail.com': 2, 'test.in': 1, 'ya.ru': 2, 'mail.ru': 1}"
      ]
     },
     "execution_count": 25,
     "metadata": {},
     "output_type": "execute_result"
    }
   ],
   "source": [
    "domain_number(emails)"
   ]
  },
  {
   "cell_type": "code",
   "execution_count": null,
   "metadata": {},
   "outputs": [],
   "source": []
  }
 ],
 "metadata": {
  "kernelspec": {
   "display_name": "Python 3",
   "language": "python",
   "name": "python3"
  },
  "language_info": {
   "codemirror_mode": {
    "name": "ipython",
    "version": 3
   },
   "file_extension": ".py",
   "mimetype": "text/x-python",
   "name": "python",
   "nbconvert_exporter": "python",
   "pygments_lexer": "ipython3",
   "version": "3.8.5"
  }
 },
 "nbformat": 4,
 "nbformat_minor": 4
}
