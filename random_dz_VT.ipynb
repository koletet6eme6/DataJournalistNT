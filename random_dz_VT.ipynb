{
 "cells": [
  {
   "cell_type": "code",
   "execution_count": 33,
   "metadata": {},
   "outputs": [],
   "source": [
    "import numpy as np\n"
   ]
  },
  {
   "cell_type": "code",
   "execution_count": 66,
   "metadata": {},
   "outputs": [
    {
     "name": "stdout",
     "output_type": "stream",
     "text": [
      "443869 1000000 0.443869\n",
      "208183 1000000 0.208183\n"
     ]
    }
   ],
   "source": [
    "trials = 1000000    # Количество игровых попыток\n",
    "plus_score = 0 #количество выигрышей\n",
    "success = 0 #суммарный выигрыш\n",
    "\n",
    "\n",
    "for i in range(trials):\n",
    "    random_score = '{:03}'.format(np.random.randint(1, 10**3)) # Случайное число от 000 до 999\n",
    "    if random_score == 777:\n",
    "        plus_score += 1\n",
    "        success += 200\n",
    "    if random_score == 999:\n",
    "        plus_score += 1\n",
    "        success += 100\n",
    "    if random_score == 555:\n",
    "        plus_score += 1\n",
    "        success += 50\n",
    "    if random_score == 333:\n",
    "        plus_score += 1\n",
    "        success += 15\n",
    "    if random_score == 111:\n",
    "        plus_score += 1\n",
    "        success += 10\n",
    "    if int(random_score) % 100 == 77 and int(random_score) // 100 != 7:\n",
    "        plus_score += 1\n",
    "        success += 5\n",
    "    if int(random_score) % 10 == 7 and int(random_score) // 10 != 77:\n",
    "        plus_score += 1\n",
    "        success += 3\n",
    "    if int(random_score) % 1000 == 0:\n",
    "        plus_score += 1\n",
    "        success += 2\n",
    "    if int(random_score) % 10 == 0:\n",
    "        plus_score += 1\n",
    "        success += 1\n",
    "    \n",
    "        \n",
    "monte_carlo1 = success / trials    # Вероятность из моделирования\n",
    "monte_carlo2 = plus_score / trials\n",
    "                        \n",
    "\n",
    "print(success, trials, monte_carlo1) #игрок приобретает за игру 44% от затраченного\n",
    "print (plus_score, trials, monte_carlo2) #всего в 20% случаев игрок выигрывает любой выирыш. Игра не выгодна"
   ]
  }
 ],
 "metadata": {
  "kernelspec": {
   "display_name": "Python 3",
   "language": "python",
   "name": "python3"
  },
  "language_info": {
   "codemirror_mode": {
    "name": "ipython",
    "version": 3
   },
   "file_extension": ".py",
   "mimetype": "text/x-python",
   "name": "python",
   "nbconvert_exporter": "python",
   "pygments_lexer": "ipython3",
   "version": "3.8.5"
  }
 },
 "nbformat": 4,
 "nbformat_minor": 4
}
