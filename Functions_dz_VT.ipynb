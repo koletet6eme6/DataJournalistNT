{
 "cells": [
  {
   "cell_type": "code",
   "execution_count": 2,
   "metadata": {},
   "outputs": [],
   "source": [
    "documents = [\n",
    " {'type': 'passport', 'number': '2207 876234', 'name': 'Василий Гупкин'},\n",
    " {'type': 'invoice', 'number': '11-2', 'name': 'Геннадий Покемонов'},\n",
    " {'type': 'insurance', 'number': '10006', 'name': 'Аристарх Павлов'}\n",
    "]\n",
    "\n",
    "directories = {\n",
    " '1': ['2207 876234', '11-2'],\n",
    " '2': ['10006'],\n",
    " '3': []\n",
    "}\n",
    "\n"
   ]
  },
  {
   "cell_type": "code",
   "execution_count": 20,
   "metadata": {},
   "outputs": [
    {
     "name": "stdout",
     "output_type": "stream",
     "text": [
      "Введите номер документа:10006\n",
      "Владелец документа: Аристарх Павлов\n"
     ]
    }
   ],
   "source": [
    "# команда p\n",
    "def document_owener():\n",
    "    user_input = input ('Введите номер документа:')\n",
    "    for element in documents:\n",
    "        if user_input == element['number']:\n",
    "            print('Владелец документа:', element['name'])\n",
    "            return \n",
    "    print ('Документ не найден в базе')\n",
    "    return\n",
    "document_owener()"
   ]
  },
  {
   "cell_type": "code",
   "execution_count": 19,
   "metadata": {},
   "outputs": [
    {
     "name": "stdout",
     "output_type": "stream",
     "text": [
      "Введите номер документа:2000000\n",
      "Документ не найден в базе\n"
     ]
    }
   ],
   "source": [
    "# команда s\n",
    "def shelf():\n",
    "    user_input = input('Введите номер документа:')\n",
    "    for shelf_list in directories.items():\n",
    "        for doc_number in shelf_list[1]:\n",
    "            if user_input == doc_number:\n",
    "                print ('Документ хранится на полке:', shelf_list[0])\n",
    "                return\n",
    "    print ('Документ не найден в базе')\n",
    "    return \n",
    "\n",
    "                \n",
    "            \n",
    "shelf()\n",
    "    "
   ]
  },
  {
   "cell_type": "code",
   "execution_count": 21,
   "metadata": {},
   "outputs": [
    {
     "name": "stdout",
     "output_type": "stream",
     "text": [
      "Результат:\n",
      "№:2207 876234, тип:passport, владелец: Василий Гупкин, полка хранения: 1\n",
      "№:11-2, тип:invoice, владелец: Геннадий Покемонов, полка хранения: 1\n",
      "№:10006, тип:insurance, владелец: Аристарх Павлов, полка хранения: 2\n"
     ]
    }
   ],
   "source": [
    "# команда l\n",
    "def all_info():\n",
    "    print('Результат:')\n",
    "    for elements in documents:\n",
    "        for shelf in directories.items():\n",
    "            for number in shelf[1]:\n",
    "                if number == elements['number']:\n",
    "                    print(f\"№:{elements ['number']}, тип:{elements ['type']}, владелец: {elements['name']}, полка хранения: {shelf[0]}\")\n",
    "    return \n",
    "all_info()\n"
   ]
  },
  {
   "cell_type": "code",
   "execution_count": 24,
   "metadata": {},
   "outputs": [
    {
     "name": "stdout",
     "output_type": "stream",
     "text": [
      "Введите номер полки:3\n",
      "Такая полка уже существует. Текущий перечень полок: 1,2,3,4\n"
     ]
    }
   ],
   "source": [
    "# команда as\n",
    "def shelf_add():\n",
    "    user_input = input('Введите номер полки:')\n",
    "    if user_input in directories:\n",
    "        print ('Такая полка уже существует. Текущий перечень полок:',','.join(directories.keys()))\n",
    "        return\n",
    "    else:\n",
    "        directories[user_input] = []\n",
    "        print ('Полка добавлена. Текущий перечень полок:', ','.join(directories.keys()))\n",
    "        return \n",
    "shelf_add()"
   ]
  },
  {
   "cell_type": "code",
   "execution_count": 27,
   "metadata": {},
   "outputs": [
    {
     "name": "stdout",
     "output_type": "stream",
     "text": [
      "Введите номер полки: 4\n",
      "Полка удалена. Текущий перечень полок: 1,2,3\n"
     ]
    }
   ],
   "source": [
    "# команда ds\n",
    "def d_shelf():\n",
    "    user_input = input ('Введите номер полки: ')\n",
    "    if user_input not in directories:\n",
    "        print('Такой полки не сущетствует. Текущий перечень полок:', ','.join(directories.keys()))\n",
    "        return \n",
    "    elif len(directories[user_input]) > 0:\n",
    "        print ('На полке есть документы, удалите их перед удалением полки. Текущий перечень полок:',','.join(directories.keys()))\n",
    "        return\n",
    "    else:\n",
    "        directories.pop(user_input)\n",
    "        print ('Полка удалена. Текущий перечень полок:',','.join(directories.keys()))\n",
    "        return\n",
    "    \n",
    "d_shelf()\n",
    "       "
   ]
  },
  {
   "cell_type": "code",
   "execution_count": null,
   "metadata": {},
   "outputs": [
    {
     "name": "stdout",
     "output_type": "stream",
     "text": [
      "Введите команду:l\n",
      "Результат:\n",
      "№:2207 876234, тип:passport, владелец: Василий Гупкин, полка хранения: 1\n",
      "№:11-2, тип:invoice, владелец: Геннадий Покемонов, полка хранения: 1\n",
      "№:10006, тип:insurance, владелец: Аристарх Павлов, полка хранения: 2\n"
     ]
    }
   ],
   "source": [
    "def main():\n",
    "    while True:\n",
    "        command = input ('Введите команду:')\n",
    "        if command == 'p':\n",
    "            document_owener()\n",
    "        elif command == 's':\n",
    "            shelf()\n",
    "        elif command == 'l':\n",
    "            all_info()\n",
    "        elif command == 'ads':\n",
    "            shelf_add()\n",
    "        elif command == 'ds':\n",
    "            d_shelf()\n",
    "        elif command == 'q':\n",
    "            return\n",
    "            break \n",
    "        \n",
    "main()\n"
   ]
  }
 ],
 "metadata": {
  "kernelspec": {
   "display_name": "Python 3",
   "language": "python",
   "name": "python3"
  },
  "language_info": {
   "codemirror_mode": {
    "name": "ipython",
    "version": 3
   },
   "file_extension": ".py",
   "mimetype": "text/x-python",
   "name": "python",
   "nbconvert_exporter": "python",
   "pygments_lexer": "ipython3",
   "version": "3.8.5"
  }
 },
 "nbformat": 4,
 "nbformat_minor": 4
}
